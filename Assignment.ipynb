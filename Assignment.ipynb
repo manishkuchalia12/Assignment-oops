{
 "cells": [
  {
   "cell_type": "markdown",
   "id": "0b120045-0a06-49ed-a589-3c2bc029cf13",
   "metadata": {},
   "source": [
    "Q1, Create a vehicle class with an init method having instance variables as name_of_vehicle, max_speed\n",
    "and average_of_vehicle."
   ]
  },
  {
   "cell_type": "code",
   "execution_count": 1,
   "id": "c25130f4-6bb8-4da1-a980-feafc6d81f40",
   "metadata": {},
   "outputs": [],
   "source": [
    "class Vehicle:\n",
    "    def __init__(self, name_of_vehicle, max_speed, average_of_vehicle):\n",
    "        self.name_of_vehicle = name_of_vehicle\n",
    "        self.max_speed = max_speed\n",
    "        self.average_of_vehicle = average_of_vehicle\n"
   ]
  },
  {
   "cell_type": "markdown",
   "id": "3e8a0d09-0cb1-4870-8449-b50e23c9710e",
   "metadata": {},
   "source": [
    "Q2. Create a child class car from the vehicle class created in Que 1, which will inherit the vehicle class.\n",
    "Create a method named seating_capacity which takes capacity as an argument and returns the name of\n",
    "the vehicle and its seating capacity."
   ]
  },
  {
   "cell_type": "code",
   "execution_count": 5,
   "id": "4a36278a-bb28-48fe-b8de-fe9f8c8de896",
   "metadata": {},
   "outputs": [
    {
     "name": "stdout",
     "output_type": "stream",
     "text": [
      "The vehicle Sedan has a seating capacity of 5.\n"
     ]
    }
   ],
   "source": [
    "class Vehicle:\n",
    "    def __init__(self, name_of_vehicle, max_speed, average_of_vehicle):\n",
    "        self.name_of_vehicle = name_of_vehicle\n",
    "        self.max_speed = max_speed\n",
    "        self.average_of_vehicle = average_of_vehicle\n",
    "       \n",
    "class Car(Vehicle):\n",
    "    def seating_capacity(self, capacity):\n",
    "        return f\"The vehicle {self.name_of_vehicle} has a seating capacity of {capacity}.\"\n",
    "\n",
    "\n",
    "car_instance = Car(name_of_vehicle=\"Sedan\", max_speed=200, average_of_vehicle=25)\n",
    "result = car_instance.seating_capacity(5)\n",
    "print(result)\n"
   ]
  },
  {
   "cell_type": "markdown",
   "id": "e35872b4-54ad-42e1-8139-3b86c793e107",
   "metadata": {},
   "source": [
    "Q3. What is multiple inheritance? "
   ]
  },
  {
   "cell_type": "markdown",
   "id": "ac4b859e-649e-4c54-be42-3f013020490f",
   "metadata": {},
   "source": [
    "Ans:- Multiple inheritance in Python refers to the capability of a class to inherit properties and methods from more than one parent class. When a class is derived from multiple base classes, it is called multiple inheritance. "
   ]
  },
  {
   "cell_type": "markdown",
   "id": "22b3669c-8e57-4509-bfa4-c186c1f09d62",
   "metadata": {},
   "source": [
    "Write a python code to demonstrate multiple inheritance."
   ]
  },
  {
   "cell_type": "code",
   "execution_count": 6,
   "id": "bf3b302c-2632-4753-ae4a-9310a8902776",
   "metadata": {},
   "outputs": [
    {
     "name": "stdout",
     "output_type": "stream",
     "text": [
      "Polly is a Parrot bird.\n",
      "Polly is eating.\n",
      "Flying with wings.\n"
     ]
    }
   ],
   "source": [
    "class Animal:\n",
    "    def __init__(self, name):\n",
    "        self.name = name\n",
    "\n",
    "    def eat(self):\n",
    "        print(f\"{self.name} is eating.\")\n",
    "\n",
    "class Wings:\n",
    "    def fly(self):\n",
    "        print(\"Flying with wings.\")\n",
    "\n",
    "class Bird(Animal, Wings):\n",
    "    def __init__(self, name, species):\n",
    "        super().__init__(name)\n",
    "        self.species = species\n",
    "\n",
    "    def display_info(self):\n",
    "        print(f\"{self.name} is a {self.species} bird.\")\n",
    "\n",
    "\n",
    "parrot = Bird(name=\"Polly\", species=\"Parrot\")\n",
    "parrot.display_info()\n",
    "parrot.eat()\n",
    "parrot.fly()\n"
   ]
  },
  {
   "cell_type": "markdown",
   "id": "40907e0c-f4ef-4a23-b069-0176695ae116",
   "metadata": {},
   "source": [
    "Q4. What are getter and setter in python?\n",
    "\n",
    "\n",
    "Answer:-  In Python, getters and setters are methods used to access and modify the private attributes of a class, ensuring encapsulation. Getters retrieve the value of an attribute, while setters modify its value. This practice helps control access to the class attributes and maintain data integrity."
   ]
  },
  {
   "cell_type": "markdown",
   "id": "e4417294-2f8a-4da4-9545-76a53179ee2e",
   "metadata": {},
   "source": [
    "Create a class and create a getter and a setter method in this class."
   ]
  },
  {
   "cell_type": "code",
   "execution_count": 10,
   "id": "077392bf-6298-4741-b752-df44a33fd87b",
   "metadata": {},
   "outputs": [
    {
     "name": "stdout",
     "output_type": "stream",
     "text": [
      "42\n"
     ]
    }
   ],
   "source": [
    "class MyClass:\n",
    "    def __init__(self):\n",
    "        self._value = None\n",
    "\n",
    "    def get_value(self):\n",
    "        return self._value\n",
    "\n",
    "\n",
    "    def set_value(self, new_value):\n",
    "        self._value = new_value\n",
    "obj = MyClass()\n",
    "obj.set_value(42)\n",
    "print(obj.get_value())  \n"
   ]
  },
  {
   "cell_type": "markdown",
   "id": "f601756e-d961-4906-a0d5-cf8df8144363",
   "metadata": {},
   "source": [
    "Q5.What is method overriding in python? Write a python code to demonstrate method overriding.\n",
    "\n",
    "\n",
    "Answer:- Method overriding in Python allows a subclass to provide a specific implementation for a method that is already defined in its superclass. The overridden method in the subclass should have the same name, parameters, and return type as the method in the superclass."
   ]
  },
  {
   "cell_type": "code",
   "execution_count": 11,
   "id": "a38c6099-2c48-4b67-b59e-68cf62896339",
   "metadata": {},
   "outputs": [
    {
     "name": "stdout",
     "output_type": "stream",
     "text": [
      "Animal speaks.\n",
      "Dog barks.\n"
     ]
    }
   ],
   "source": [
    "class Animal:\n",
    "    def speak(self):\n",
    "        print(\"Animal speaks.\")\n",
    "\n",
    "class Dog(Animal):\n",
    "    def speak(self):\n",
    "        print(\"Dog barks.\")\n",
    "\n",
    "animal_instance = Animal()\n",
    "dog_instance = Dog()\n",
    "\n",
    "animal_instance.speak() \n",
    "dog_instance.speak()\n"
   ]
  },
  {
   "cell_type": "code",
   "execution_count": null,
   "id": "b980e903-e1d0-4808-a077-8f42c1a7245e",
   "metadata": {},
   "outputs": [],
   "source": []
  }
 ],
 "metadata": {
  "kernelspec": {
   "display_name": "Python 3 (ipykernel)",
   "language": "python",
   "name": "python3"
  },
  "language_info": {
   "codemirror_mode": {
    "name": "ipython",
    "version": 3
   },
   "file_extension": ".py",
   "mimetype": "text/x-python",
   "name": "python",
   "nbconvert_exporter": "python",
   "pygments_lexer": "ipython3",
   "version": "3.12.0"
  }
 },
 "nbformat": 4,
 "nbformat_minor": 5
}
